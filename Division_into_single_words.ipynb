{
 "cells": [
  {
   "cell_type": "code",
   "execution_count": 8,
   "metadata": {},
   "outputs": [
    {
     "data": {
      "image/png": "[encoded data removed]",
      "text/plain": [
       "<Figure size 432x288 with 1 Axes>"
      ]
     },
     "metadata": {},
     "output_type": "display_data"
    },
    {
     "name": "stdout",
     "output_type": "stream",
     "text": [
      "['0.749157', '1.356582', 'otwórz']\n",
      "749.1569999999999\n",
      "1356.5819999999999\n",
      "['2.308214', '3.077619', 'zamknij']\n",
      "2308.214\n",
      "3077.6189999999997\n",
      "['4.069746', '4.717666', 'garaz']\n",
      "4069.746\n",
      "4717.666\n",
      "['5.730040', '6.074247', 'zrób']\n",
      "5730.04\n",
      "6074.246999999999\n",
      "['7.410582', '8.098997', 'nastrój']\n",
      "7410.581999999999\n",
      "8098.997\n",
      "['9.151866', '9.698548', 'włącz']\n",
      "9151.866\n",
      "9698.548\n",
      "['10.974140', '11.642308', 'wyłącz']\n",
      "10974.14\n",
      "11642.307999999999\n",
      "['12.735672', '13.383592', 'muzykę']\n",
      "12735.671999999999\n",
      "13383.592\n",
      "['14.821164', '15.529826', 'światło']\n",
      "14821.163999999999\n",
      "15529.826\n",
      "['16.724428', '17.372348', 'zapal']\n",
      "16724.428\n",
      "17372.347999999998\n",
      "['18.992147', '19.619819', 'podnieś']\n",
      "18992.147\n",
      "19619.819\n",
      "['20.672689', '21.381351', 'rolety']\n",
      "20672.689\n",
      "21381.351\n",
      "['22.413973', '23.061893', 'telewizor']\n",
      "22413.972999999998\n",
      "23061.893\n"
     ]
    }
   ],
   "source": [
    "import matplotlib.pyplot as plt\n",
    "import numpy as np\n",
    "import wave\n",
    "import sys\n",
    "\n",
    "\n",
    "spf = wave.open('/home/karolina/Pulpit/speech_recognition/266711_23_K_23_3/266711_23_K_23_3.wav','r')\n",
    "\n",
    "#Extract Raw Audio from Wav File\n",
    "signal = spf.readframes(-1)\n",
    "\n",
    "signal = np.frombuffer(signal, dtype=int)\n",
    "\n",
    "\n",
    "#If Stereo\n",
    "if spf.getnchannels() == 2:\n",
    "    print ('Just mono files')\n",
    "    sys.exit(0)\n",
    "\n",
    "plt.figure(1)\n",
    "plt.title('Signal Wave...')\n",
    "plt.plot(signal)\n",
    "plt.show()\n",
    "from pydub import AudioSegment\n",
    "path='/home/karolina/Pulpit/speech_recognition/266711_23_K_23_3/266711_23_K_23_3.txt'      \n",
    "a = open(path,\"r\")\n",
    "b = a.readlines()\n",
    "a.close()\n",
    "path_word=['otworz.wav', 'zamknij.wav', 'zrob.wav', 'nastroj.wav', 'wlacz.wav', 'wylacz.wav', 'muzyke.wav', 'swiatlo.wav', 'zapal.wav', 'podnies.wav', 'rolety.wav', 'telewizor.wav']\n",
    "\n",
    "count = -1\n",
    "for line in b:\n",
    "    count += 1\n",
    "    if count >= 0:      \n",
    "        d = b[count].split()\n",
    "        print (d)\n",
    "        t1=d[0]\n",
    "        t2=d[1]\n",
    "        t1=float(t1)\n",
    "        t2=float(t2)\n",
    "        t1=t1*1000 # works in miliseconds\n",
    "        t2=t2*1000\n",
    "        print (t1)\n",
    "        print (t2)\n",
    " \n",
    "   \n",
    "    newAudio = AudioSegment.from_wav(\"266711_23_K_23_4.wav\")\n",
    "    newAudio = newAudio[t1:t2]\n",
    "    \n",
    "    newAudio.export(d[2], format=\"wav\")"
   ]
  },
  {
   "cell_type": "code",
   "execution_count": null,
   "metadata": {},
   "outputs": [],
   "source": [
    "\n"
   ]
  },
  {
   "cell_type": "code",
   "execution_count": null,
   "metadata": {},
   "outputs": [],
   "source": []
  }
 ],
 "metadata": {
  "kernelspec": {
   "display_name": "Python 3",
   "language": "python",
   "name": "python3"
  },
  "language_info": {
   "codemirror_mode": {
    "name": "ipython",
    "version": 3
   },
   "file_extension": ".py",
   "mimetype": "text/x-python",
   "name": "python",
   "nbconvert_exporter": "python",
   "pygments_lexer": "ipython3",
   "version": "3.6.3"
  }
 },
 "nbformat": 4,
 "nbformat_minor": 2
}
